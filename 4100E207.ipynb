{
  "nbformat": 4,
  "nbformat_minor": 0,
  "metadata": {
    "colab": {
      "name": "4100E207.ipynb",
      "provenance": [],
      "authorship_tag": "ABX9TyMff58rqK9kwaaKUKv5hEI5",
      "include_colab_link": true
    },
    "kernelspec": {
      "name": "python3",
      "display_name": "Python 3"
    },
    "language_info": {
      "name": "python"
    }
  },
  "cells": [
    {
      "cell_type": "markdown",
      "metadata": {
        "id": "view-in-github",
        "colab_type": "text"
      },
      "source": [
        "<a href=\"https://colab.research.google.com/github/ANAFEJECAPUYAN/Ana-Feje-Capuyan/blob/main/4100E207.ipynb\" target=\"_parent\"><img src=\"https://colab.research.google.com/assets/colab-badge.svg\" alt=\"Open In Colab\"/></a>"
      ]
    },
    {
      "cell_type": "markdown",
      "metadata": {
        "id": "dwxPBVNYzja4"
      },
      "source": [
        "NUMERICS DATA TYPE\n",
        "\n",
        "DATE: 20211011\n",
        "\n",
        "NAME: ANA FEJE CAPUYAN\n",
        "\n",
        "STUDENT ID: 4100E207"
      ]
    },
    {
      "cell_type": "markdown",
      "metadata": {
        "id": "z1ChCsmt0Im9"
      },
      "source": [
        "**ARITHMETIC OPERATORS**"
      ]
    },
    {
      "cell_type": "code",
      "metadata": {
        "colab": {
          "base_uri": "https://localhost:8080/"
        },
        "id": "puc4svLVRK_Q",
        "outputId": "cf1c5cda-d762-47e1-f35b-53859ac89008"
      },
      "source": [
        "x = 10\n",
        "print (x > 9 and x > 11)"
      ],
      "execution_count": 44,
      "outputs": [
        {
          "output_type": "stream",
          "name": "stdout",
          "text": [
            "False\n"
          ]
        }
      ]
    },
    {
      "cell_type": "code",
      "metadata": {
        "colab": {
          "base_uri": "https://localhost:8080/"
        },
        "id": "wHiva1H71va8",
        "outputId": "6b718081-a0f8-44c6-8b93-5ccd79790c45"
      },
      "source": [
        "a = 25 / 4\n",
        "a\n"
      ],
      "execution_count": 14,
      "outputs": [
        {
          "output_type": "execute_result",
          "data": {
            "text/plain": [
              "6.25"
            ]
          },
          "metadata": {},
          "execution_count": 14
        }
      ]
    },
    {
      "cell_type": "code",
      "metadata": {
        "colab": {
          "base_uri": "https://localhost:8080/"
        },
        "id": "vbYUBaGl2SzI",
        "outputId": "1fa8e7aa-7ebc-4dcc-d03b-158c6dc3fe81"
      },
      "source": [
        "b = 25 // 4\n",
        "b"
      ],
      "execution_count": 12,
      "outputs": [
        {
          "output_type": "execute_result",
          "data": {
            "text/plain": [
              "6"
            ]
          },
          "metadata": {},
          "execution_count": 12
        }
      ]
    },
    {
      "cell_type": "code",
      "metadata": {
        "colab": {
          "base_uri": "https://localhost:8080/"
        },
        "id": "pTfYGyKZ2gAV",
        "outputId": "30dfe483-156f-4dec-c01a-07c2824a6484"
      },
      "source": [
        "c = 25 % 4\n",
        "c"
      ],
      "execution_count": 13,
      "outputs": [
        {
          "output_type": "execute_result",
          "data": {
            "text/plain": [
              "1"
            ]
          },
          "metadata": {},
          "execution_count": 13
        }
      ]
    },
    {
      "cell_type": "markdown",
      "metadata": {
        "id": "SQ8PlU082_Z5"
      },
      "source": [
        "25 = 6*4 + 1"
      ]
    },
    {
      "cell_type": "markdown",
      "metadata": {
        "id": "Q8Q3OV8B3Saj"
      },
      "source": [
        "**LOGICAL OPERATORS**"
      ]
    },
    {
      "cell_type": "code",
      "metadata": {
        "colab": {
          "base_uri": "https://localhost:8080/"
        },
        "id": "DBNTEYhT3fRu",
        "outputId": "e941040a-adce-46a2-fdfd-29411ee2d33e"
      },
      "source": [
        "x = 9\n",
        "print(x < 10 and x < 12)"
      ],
      "execution_count": 15,
      "outputs": [
        {
          "output_type": "stream",
          "name": "stdout",
          "text": [
            "True\n"
          ]
        }
      ]
    },
    {
      "cell_type": "code",
      "metadata": {
        "colab": {
          "base_uri": "https://localhost:8080/"
        },
        "id": "83DVjj_r36ZL",
        "outputId": "2c7c3e17-ad49-417c-de63-e24ec69ab8f6"
      },
      "source": [
        "x = 15\n",
        "print(x >  20 and x > 18)"
      ],
      "execution_count": 16,
      "outputs": [
        {
          "output_type": "stream",
          "name": "stdout",
          "text": [
            "False\n"
          ]
        }
      ]
    },
    {
      "cell_type": "markdown",
      "metadata": {
        "id": "b1S_49x44SY_"
      },
      "source": [
        "**BUILT-IN FUNCTIONS**"
      ]
    },
    {
      "cell_type": "code",
      "metadata": {
        "colab": {
          "base_uri": "https://localhost:8080/",
          "height": 35
        },
        "id": "rvjK13GI4XR3",
        "outputId": "b4da9124-d2a1-44cf-800e-055f7aca06b7"
      },
      "source": [
        "bin(10)"
      ],
      "execution_count": 17,
      "outputs": [
        {
          "output_type": "execute_result",
          "data": {
            "application/vnd.google.colaboratory.intrinsic+json": {
              "type": "string"
            },
            "text/plain": [
              "'0b1010'"
            ]
          },
          "metadata": {},
          "execution_count": 17
        }
      ]
    },
    {
      "cell_type": "code",
      "metadata": {
        "colab": {
          "base_uri": "https://localhost:8080/"
        },
        "id": "clKYarlq4qaK",
        "outputId": "e867e1de-7200-42f1-e142-86360071a9f3"
      },
      "source": [
        "abs(210)"
      ],
      "execution_count": 19,
      "outputs": [
        {
          "output_type": "execute_result",
          "data": {
            "text/plain": [
              "210"
            ]
          },
          "metadata": {},
          "execution_count": 19
        }
      ]
    },
    {
      "cell_type": "markdown",
      "metadata": {
        "id": "0MpyKl7e42It"
      },
      "source": [
        "**STRING DATA TYPE**"
      ]
    },
    {
      "cell_type": "code",
      "metadata": {
        "colab": {
          "base_uri": "https://localhost:8080/"
        },
        "id": "zpFdWFBZ48J2",
        "outputId": "03d26b30-12e2-4110-d19e-30958be3fad4"
      },
      "source": [
        "var = \"Hi,guys!\"\n",
        "print (\"var[1]:\" , var[1])\n"
      ],
      "execution_count": 20,
      "outputs": [
        {
          "output_type": "stream",
          "name": "stdout",
          "text": [
            "var[1]: i\n"
          ]
        }
      ]
    },
    {
      "cell_type": "code",
      "metadata": {
        "colab": {
          "base_uri": "https://localhost:8080/"
        },
        "id": "ibNA7C5AG4xS",
        "outputId": "e42aa7d6-fe6e-4e91-d174-67676912f265"
      },
      "source": [
        "b = 'Hi,guys!'\n",
        "print (b[3:7])\n"
      ],
      "execution_count": 21,
      "outputs": [
        {
          "output_type": "stream",
          "name": "stdout",
          "text": [
            "guys\n"
          ]
        }
      ]
    },
    {
      "cell_type": "code",
      "metadata": {
        "colab": {
          "base_uri": "https://localhost:8080/"
        },
        "id": "m7yXLYSnHc06",
        "outputId": "c79b679f-65d7-46dd-9e69-03c7007a68d1"
      },
      "source": [
        "b = 'Hi,guys!'\n",
        "print (b[1:])"
      ],
      "execution_count": 22,
      "outputs": [
        {
          "output_type": "stream",
          "name": "stdout",
          "text": [
            "i,guys!\n"
          ]
        }
      ]
    },
    {
      "cell_type": "code",
      "metadata": {
        "colab": {
          "base_uri": "https://localhost:8080/"
        },
        "id": "2WWEjBs0IGDS",
        "outputId": "61713fab-2295-4b01-ca6b-842da6a93ae6"
      },
      "source": [
        "b = 'Hi,guys!'\n",
        "print (b[:4])"
      ],
      "execution_count": 24,
      "outputs": [
        {
          "output_type": "stream",
          "name": "stdout",
          "text": [
            "Hi,g\n"
          ]
        }
      ]
    },
    {
      "cell_type": "code",
      "metadata": {
        "colab": {
          "base_uri": "https://localhost:8080/"
        },
        "id": "-HpXEhl4ISHn",
        "outputId": "a36d3b83-c56f-42e9-9815-95dcfe49dd93"
      },
      "source": [
        "b = 'Hi,guys!'\n",
        "print (b[-7:-6])"
      ],
      "execution_count": 28,
      "outputs": [
        {
          "output_type": "stream",
          "name": "stdout",
          "text": [
            "i\n"
          ]
        }
      ]
    },
    {
      "cell_type": "code",
      "metadata": {
        "colab": {
          "base_uri": "https://localhost:8080/"
        },
        "id": "ree49WvlI6gV",
        "outputId": "9a7292c8-34bc-4dc5-de91-1cf002a0b9b1"
      },
      "source": [
        "pig = \"oink,oink,oink\"\n",
        "x = pig.capitalize()\n",
        "print (x)"
      ],
      "execution_count": 29,
      "outputs": [
        {
          "output_type": "stream",
          "name": "stdout",
          "text": [
            "Oink,oink,oink\n"
          ]
        }
      ]
    },
    {
      "cell_type": "code",
      "metadata": {
        "colab": {
          "base_uri": "https://localhost:8080/"
        },
        "id": "rtZe0bRjKb3h",
        "outputId": "124a96c4-0151-49c6-e346-73c9baf25601"
      },
      "source": [
        "myName = (\"Ana\",\"Feje\",\"Capuyan\")\n",
        "x = \"#\" .join(myName)\n",
        "print (x)"
      ],
      "execution_count": 30,
      "outputs": [
        {
          "output_type": "stream",
          "name": "stdout",
          "text": [
            "Ana#Feje#Capuyan\n"
          ]
        }
      ]
    },
    {
      "cell_type": "code",
      "metadata": {
        "colab": {
          "base_uri": "https://localhost:8080/"
        },
        "id": "76ta_RzgLBEe",
        "outputId": "b1b87d02-ec2d-452d-8e00-f3f94f55f08e"
      },
      "source": [
        "txt = \"blackandrosegold\"\n",
        "x = txt.ljust(25)\n",
        "print(x, \"are my favorite color\")\n"
      ],
      "execution_count": 31,
      "outputs": [
        {
          "output_type": "stream",
          "name": "stdout",
          "text": [
            "blackandrosegold          are my favorite color\n"
          ]
        }
      ]
    },
    {
      "cell_type": "markdown",
      "metadata": {
        "id": "v2DUP96ALrCM"
      },
      "source": [
        "**LIST DATA TYPE**"
      ]
    },
    {
      "cell_type": "code",
      "metadata": {
        "colab": {
          "base_uri": "https://localhost:8080/"
        },
        "id": "AWWwrt8sLxyS",
        "outputId": "dd25a5a6-827e-44b1-939f-253ceecfa852"
      },
      "source": [
        "list1 = [15,30,16,17,31]\n",
        "list1[3]"
      ],
      "execution_count": 34,
      "outputs": [
        {
          "output_type": "execute_result",
          "data": {
            "text/plain": [
              "17"
            ]
          },
          "metadata": {},
          "execution_count": 34
        }
      ]
    },
    {
      "cell_type": "code",
      "metadata": {
        "colab": {
          "base_uri": "https://localhost:8080/"
        },
        "id": "lWHuF1P2MZQ-",
        "outputId": "49f4974b-eb94-403c-8db3-c07e4a49ebb3"
      },
      "source": [
        "list1 = [5,16,21,29,32]\n",
        "\n",
        "list1[2]\n",
        "list1[-2]\n",
        "list1[3:4]"
      ],
      "execution_count": 35,
      "outputs": [
        {
          "output_type": "execute_result",
          "data": {
            "text/plain": [
              "[29]"
            ]
          },
          "metadata": {},
          "execution_count": 35
        }
      ]
    },
    {
      "cell_type": "code",
      "metadata": {
        "colab": {
          "base_uri": "https://localhost:8080/"
        },
        "id": "o2KOe2AQM1JF",
        "outputId": "0259e597-aa70-480c-c7bb-89338376a06f"
      },
      "source": [
        "len(list1)"
      ],
      "execution_count": 37,
      "outputs": [
        {
          "output_type": "execute_result",
          "data": {
            "text/plain": [
              "5"
            ]
          },
          "metadata": {},
          "execution_count": 37
        }
      ]
    },
    {
      "cell_type": "code",
      "metadata": {
        "colab": {
          "base_uri": "https://localhost:8080/"
        },
        "id": "U_p3APvVM-p6",
        "outputId": "d55b5f12-4401-49a7-f419-c91520a36aa4"
      },
      "source": [
        "max(list1)"
      ],
      "execution_count": 38,
      "outputs": [
        {
          "output_type": "execute_result",
          "data": {
            "text/plain": [
              "32"
            ]
          },
          "metadata": {},
          "execution_count": 38
        }
      ]
    },
    {
      "cell_type": "code",
      "metadata": {
        "colab": {
          "base_uri": "https://localhost:8080/"
        },
        "id": "ySbRop55NETw",
        "outputId": "307aa3b6-99ef-4dda-c83a-c9e07b20c0b7"
      },
      "source": [
        "min(list1)"
      ],
      "execution_count": 39,
      "outputs": [
        {
          "output_type": "execute_result",
          "data": {
            "text/plain": [
              "5"
            ]
          },
          "metadata": {},
          "execution_count": 39
        }
      ]
    },
    {
      "cell_type": "markdown",
      "metadata": {
        "id": "UcjKzRS7NLM7"
      },
      "source": [
        "**DICT DATA TYPE**"
      ]
    },
    {
      "cell_type": "code",
      "metadata": {
        "colab": {
          "base_uri": "https://localhost:8080/"
        },
        "id": "jPP4A6g0Neim",
        "outputId": "dab10789-485a-48b1-d9df-24f0100eff1e"
      },
      "source": [
        "dict = {'Name: Ana Feje', 'Age: 19', 'Student ID: 4100E207'}\n",
        "print(dict)\n",
        "{'Name: Ana Feje', 'Age: 19', 'Student ID: 4100E207'}"
      ],
      "execution_count": 42,
      "outputs": [
        {
          "output_type": "stream",
          "name": "stdout",
          "text": [
            "{'Student ID: 4100E207', 'Age: 19', 'Name: Ana Feje'}\n"
          ]
        },
        {
          "output_type": "execute_result",
          "data": {
            "text/plain": [
              "{'Age: 19', 'Name: Ana Feje', 'Student ID: 4100E207'}"
            ]
          },
          "metadata": {},
          "execution_count": 42
        }
      ]
    },
    {
      "cell_type": "code",
      "metadata": {
        "colab": {
          "base_uri": "https://localhost:8080/"
        },
        "id": "38-THm0OOYPM",
        "outputId": "d22212cf-4978-4eb8-86ce-ee30c11df0fa"
      },
      "source": [
        "dict = {'Name': 'Ana Feje', 'Age': '19', 'Student ID': '4100E207'}\n",
        "print(\"dict['Age']: \", dict['Age'])"
      ],
      "execution_count": 43,
      "outputs": [
        {
          "output_type": "stream",
          "name": "stdout",
          "text": [
            "dict['Age']:  19\n"
          ]
        }
      ]
    }
  ]
}